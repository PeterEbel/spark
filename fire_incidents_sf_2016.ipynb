{
 "cells": [
  {
   "cell_type": "code",
   "execution_count": null,
   "id": "e3232ca1-55b7-43e0-bcc1-582779259c0a",
   "metadata": {},
   "outputs": [],
   "source": [
    "# In Python, define a schema \n",
    "from pyspark.sql.types import *\n",
    "from pyspark.sql import functions as F\n",
    "\n",
    "# Programmatic way to define a schema \n",
    "fire_schema = StructType([StructField('CallNumber', IntegerType(), True),\n",
    "                StructField('UnitID', StringType(), True),\n",
    "                StructField('IncidentNumber', IntegerType(), True),\n",
    "                StructField('CallType', StringType(), True),                  \n",
    "                StructField('CallDate', StringType(), True),      \n",
    "                StructField('WatchDate', StringType(), True),\n",
    "                StructField('CallFinalDisposition', StringType(), True),\n",
    "                StructField('AvailableDtTm', StringType(), True),\n",
    "                StructField('Address', StringType(), True),       \n",
    "                StructField('City', StringType(), True),       \n",
    "                StructField('Zipcode', IntegerType(), True),       \n",
    "                StructField('Battalion', StringType(), True),                 \n",
    "                StructField('StationArea', StringType(), True),       \n",
    "                StructField('Box', StringType(), True),       \n",
    "                StructField('OriginalPriority', StringType(), True),       \n",
    "                StructField('Priority', StringType(), True),       \n",
    "                StructField('FinalPriority', IntegerType(), True),       \n",
    "                StructField('ALSUnit', BooleanType(), True),       \n",
    "                StructField('CallTypeGroup', StringType(), True),\n",
    "                StructField('NumAlarms', IntegerType(), True),\n",
    "                StructField('UnitType', StringType(), True),\n",
    "                StructField('UnitSequenceInCallDispatch', IntegerType(), True),\n",
    "                StructField('FirePreventionDistrict', StringType(), True),\n",
    "                StructField('SupervisorDistrict', StringType(), True),\n",
    "                StructField('Neighborhood', StringType(), True),\n",
    "                StructField('Location', StringType(), True),\n",
    "                StructField('RowID', StringType(), True),\n",
    "                StructField('Delay', FloatType(), True)])\n",
    "\n",
    "# Use the DataFrameReader interface to read a CSV file\n",
    "sf_fire_file = \"/home/peter/Projects/spark/data/sf-fire-calls.csv\"\n",
    "fire_df = spark.read.csv(sf_fire_file, header=False, sep = '|', schema=fire_schema)\n",
    "\n",
    "# Save as a Parquet file\n",
    "# parquet_path = \"/home/peter/Projects/spark/data/sf-fire-calls.parquet\"\n",
    "# fire_df.write.format(\"parquet\").mode(\"overwrite\").save(parquet_path)\n",
    "\n",
    "# In Python\n",
    "few_fire_df = (fire_df\n",
    "  .select(\"IncidentNumber\", \"AvailableDtTm\", \"CallType\") \n",
    "  .where(F.col(\"CallType\") != \"Medical Incident\"))\n",
    "few_fire_df.show(50, truncate=False)"
   ]
  },
  {
   "cell_type": "code",
   "execution_count": null,
   "id": "4da2269c-fa25-4207-b6d3-b650161215bc",
   "metadata": {},
   "outputs": [],
   "source": []
  }
 ],
 "metadata": {
  "kernelspec": {
   "display_name": "Python 3 (ipykernel)",
   "language": "python",
   "name": "python3"
  },
  "language_info": {
   "codemirror_mode": {
    "name": "ipython",
    "version": 3
   },
   "file_extension": ".py",
   "mimetype": "text/x-python",
   "name": "python",
   "nbconvert_exporter": "python",
   "pygments_lexer": "ipython3",
   "version": "3.10.12"
  }
 },
 "nbformat": 4,
 "nbformat_minor": 5
}
